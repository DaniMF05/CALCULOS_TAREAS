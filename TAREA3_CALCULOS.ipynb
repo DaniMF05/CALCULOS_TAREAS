{
 "cells": [
  {
   "cell_type": "markdown",
   "id": "fa689b8b",
   "metadata": {},
   "source": [
    "# TAREA 3 - CALCULOS\n",
    "\n",
    "**Nombre:** Joshua Daniel Menendez Farias\n",
    "\n",
    "**Fecha de entrega:** 19 - 05 - 2025"
   ]
  },
  {
   "cell_type": "code",
   "execution_count": 1,
   "id": "4c277bf9",
   "metadata": {},
   "outputs": [
    {
     "name": "stdout",
     "output_type": "stream",
     "text": [
      "Suma directa (adelante): 1.549\n",
      "Suma inversa (atrás): 1.549\n"
     ]
    }
   ],
   "source": [
    "# Corte de 3 dígitos con truncamiento\n",
    "def trunc3(x):\n",
    "    return float(f\"{x:.3f}\")\n",
    "\n",
    "# Parte a: suma 1/i^2 de i=1 a 10\n",
    "forward = 0.0\n",
    "for i in range(1, 11):\n",
    "    forward = trunc3(forward + trunc3(1 / (i**2)))\n",
    "\n",
    "backward = 0.0\n",
    "for i in reversed(range(1, 11)):\n",
    "    backward = trunc3(backward + trunc3(1 / (i**2)))\n",
    "\n",
    "print(f\"Suma directa (adelante): {forward}\")\n",
    "print(f\"Suma inversa (atrás): {backward}\")\n"
   ]
  },
  {
   "cell_type": "code",
   "execution_count": 2,
   "id": "bfff31b2",
   "metadata": {},
   "outputs": [
    {
     "name": "stdout",
     "output_type": "stream",
     "text": [
      "Suma directa (adelante): 1.198\n",
      "Suma inversa (atrás): 1.198\n"
     ]
    }
   ],
   "source": [
    "# Parte b: suma 1/i^3 de i=1 a 10\n",
    "forward = 0.0\n",
    "for i in range(1, 11):\n",
    "    forward = trunc3(forward + trunc3(1 / (i**3)))\n",
    "\n",
    "backward = 0.0\n",
    "for i in reversed(range(1, 11)):\n",
    "    backward = trunc3(backward + trunc3(1 / (i**3)))\n",
    "\n",
    "print(f\"Suma directa (adelante): {forward}\")\n",
    "print(f\"Suma inversa (atrás): {backward}\")\n"
   ]
  }
 ],
 "metadata": {
  "kernelspec": {
   "display_name": "base",
   "language": "python",
   "name": "python3"
  },
  "language_info": {
   "codemirror_mode": {
    "name": "ipython",
    "version": 3
   },
   "file_extension": ".py",
   "mimetype": "text/x-python",
   "name": "python",
   "nbconvert_exporter": "python",
   "pygments_lexer": "ipython3",
   "version": "3.12.7"
  }
 },
 "nbformat": 4,
 "nbformat_minor": 5
}
